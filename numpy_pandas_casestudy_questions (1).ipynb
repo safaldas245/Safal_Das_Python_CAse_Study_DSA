{
 "cells": [
  {
   "cell_type": "markdown",
   "metadata": {},
   "source": [
    "# 📚 **NumPy, Pandas, Matplotlib, and Seaborn Practice Questions**\n",
    "---\n",
    "This notebook contains four sets of practice questions covering NumPy, Pandas, Matplotlib, and Seaborn. Complete the tasks below and run the respective cells."
   ]
  },
  {
   "cell_type": "markdown",
   "metadata": {},
   "source": [
    "## 🧠 **Question 1: NumPy Array Manipulation**\n",
    "1. Create a 1D NumPy array with integers from **1 to 24**.  \n",
    "2. Reshape the array into a **4x6 matrix**.  \n",
    "3. Extract the **third row** and **second column** from the reshaped array.  \n",
    "4. Transpose the matrix and display the result."
   ]
  },
  {
   "cell_type": "code",
   "execution_count": 1,
   "id": "79c30bdc",
   "metadata": {},
   "outputs": [],
   "source": [
    "import numpy as np"
   ]
  },
  {
   "cell_type": "code",
   "execution_count": 10,
   "metadata": {},
   "outputs": [
    {
     "data": {
      "text/plain": [
       "array([[ 1,  7, 13, 19],\n",
       "       [ 2,  8, 14, 20],\n",
       "       [ 3,  9, 15, 21],\n",
       "       [ 4, 10, 16, 22],\n",
       "       [ 5, 11, 17, 23],\n",
       "       [ 6, 12, 18, 24]])"
      ]
     },
     "execution_count": 10,
     "metadata": {},
     "output_type": "execute_result"
    }
   ],
   "source": [
    "# Solution for Question 1\n",
    "import numpy as np\n",
    "\n",
    "# Your code here\n",
    "data =np.arange(1,25)\n",
    "data.reshape(4,6)\n",
    "reshaped_array = data.reshape(4, 6)\n",
    "third_row = reshaped_array[2, :] \n",
    "second_column = reshaped_array[:, 1]\n",
    "transposed_array = reshaped_array.T\n",
    "transposed_array\n",
    "\n"
   ]
  },
  {
   "cell_type": "code",
   "execution_count": 7,
   "id": "707bd5ae",
   "metadata": {},
   "outputs": [
    {
     "data": {
      "text/plain": [
       "array([ 1,  2,  3,  4,  5,  6,  7,  8,  9, 10, 11, 12, 13, 14, 15, 16, 17,\n",
       "       18, 19, 20, 21, 22, 23, 24])"
      ]
     },
     "execution_count": 7,
     "metadata": {},
     "output_type": "execute_result"
    }
   ],
   "source": [
    "\n"
   ]
  },
  {
   "cell_type": "markdown",
   "metadata": {},
   "source": [
    "## 🧠 **Question 2: Array Element Extraction**\n",
    "1. Create a **5x5 NumPy array** with random integers between **10 and 100**.  \n",
    "2. Extract all the **even numbers** from the array.  \n",
    "3. Replace all numbers **greater than 50** with **0**.  \n",
    "4. Extract the diagonal elements of the array."
   ]
  },
  {
   "cell_type": "code",
   "execution_count": 25,
   "metadata": {},
   "outputs": [],
   "source": [
    "# Solution for Question 2\n",
    "import numpy as np\n",
    "\n",
    "# Your code here\n",
    "array = np.random.randint(10, 101, size=(5, 5))\n",
    "even_numbers = array[array % 2 == 0]\n",
    "array[array > 50] = 0\n",
    "diagonal_elements = np.diagonal(array)\n",
    "\n",
    "\n"
   ]
  },
  {
   "cell_type": "code",
   "execution_count": 26,
   "id": "f7c2a643",
   "metadata": {},
   "outputs": [
    {
     "data": {
      "text/plain": [
       "array([ 0,  0,  0, 17,  0], dtype=int32)"
      ]
     },
     "execution_count": 26,
     "metadata": {},
     "output_type": "execute_result"
    }
   ],
   "source": [
    "diagonal_elements"
   ]
  },
  {
   "cell_type": "code",
   "execution_count": 27,
   "id": "30b142ab",
   "metadata": {},
   "outputs": [
    {
     "data": {
      "text/plain": [
       "array([[ 0,  0, 26, 22,  0],\n",
       "       [49,  0,  0, 41,  0],\n",
       "       [ 0,  0,  0,  0,  0],\n",
       "       [ 0,  0,  0, 17, 16],\n",
       "       [ 0, 14,  0,  0,  0]], dtype=int32)"
      ]
     },
     "execution_count": 27,
     "metadata": {},
     "output_type": "execute_result"
    }
   ],
   "source": [
    "array"
   ]
  },
  {
   "cell_type": "markdown",
   "metadata": {},
   "source": [
    "## 🧠 **Question 3: DataFrame Creation and Operations (Pandas)**\n",
    "1. Create a Pandas DataFrame containing the following data:\n",
    "\n",
    "| Student_ID | Name   | Subject | Marks |\n",
    "|------------|--------|---------|-------|\n",
    "| 1          | Alice  | Math    | 88    |\n",
    "| 2          | Bob    | Science | 75    |\n",
    "| 3          | Carol  | History | 92    |\n",
    "| 4          | David  | Math    | 85    |\n",
    "| 5          | Eva    | Science | 90    |\n",
    "\n",
    "2. Find the **average marks** for each subject.  \n",
    "3. Add a new column named **Grade** based on the marks:\n",
    "- Marks ≥ 90 → A\n",
    "- Marks ≥ 80 → B\n",
    "- Marks ≥ 70 → C\n",
    "- Else → D"
   ]
  },
  {
   "cell_type": "code",
   "execution_count": 28,
   "metadata": {},
   "outputs": [],
   "source": [
    "# Solution for Question 3\n",
    "import pandas as pd\n",
    "\n",
    "# Your code here"
   ]
  },
  {
   "cell_type": "code",
   "execution_count": 29,
   "id": "92f24c40",
   "metadata": {},
   "outputs": [],
   "source": [
    "data = {\n",
    "    \"Student_ID\": [1, 2, 3, 4, 5],\n",
    "    \"Name\": [\"Alice\", \"Bob\", \"Carol\", \"David\", \"Eve\"],\n",
    "    \"Subject\": [\"Math\", \"Science\", \"History\", \"Math\", \"Science\"],\n",
    "    \"Marks\": [88, 75, 92, 85, 90]\n",
    "}\n",
    "\n",
    "df = pd.DataFrame(data)"
   ]
  },
  {
   "cell_type": "code",
   "execution_count": 32,
   "id": "c14ec932",
   "metadata": {},
   "outputs": [
    {
     "data": {
      "text/html": [
       "<div>\n",
       "<style scoped>\n",
       "    .dataframe tbody tr th:only-of-type {\n",
       "        vertical-align: middle;\n",
       "    }\n",
       "\n",
       "    .dataframe tbody tr th {\n",
       "        vertical-align: top;\n",
       "    }\n",
       "\n",
       "    .dataframe thead th {\n",
       "        text-align: right;\n",
       "    }\n",
       "</style>\n",
       "<table border=\"1\" class=\"dataframe\">\n",
       "  <thead>\n",
       "    <tr style=\"text-align: right;\">\n",
       "      <th></th>\n",
       "      <th>Student_ID</th>\n",
       "      <th>Name</th>\n",
       "      <th>Subject</th>\n",
       "      <th>Marks</th>\n",
       "    </tr>\n",
       "  </thead>\n",
       "  <tbody>\n",
       "    <tr>\n",
       "      <th>0</th>\n",
       "      <td>1</td>\n",
       "      <td>Alice</td>\n",
       "      <td>Math</td>\n",
       "      <td>88</td>\n",
       "    </tr>\n",
       "    <tr>\n",
       "      <th>1</th>\n",
       "      <td>2</td>\n",
       "      <td>Bob</td>\n",
       "      <td>Science</td>\n",
       "      <td>75</td>\n",
       "    </tr>\n",
       "    <tr>\n",
       "      <th>2</th>\n",
       "      <td>3</td>\n",
       "      <td>Carol</td>\n",
       "      <td>History</td>\n",
       "      <td>92</td>\n",
       "    </tr>\n",
       "    <tr>\n",
       "      <th>3</th>\n",
       "      <td>4</td>\n",
       "      <td>David</td>\n",
       "      <td>Math</td>\n",
       "      <td>85</td>\n",
       "    </tr>\n",
       "    <tr>\n",
       "      <th>4</th>\n",
       "      <td>5</td>\n",
       "      <td>Eve</td>\n",
       "      <td>Science</td>\n",
       "      <td>90</td>\n",
       "    </tr>\n",
       "  </tbody>\n",
       "</table>\n",
       "</div>"
      ],
      "text/plain": [
       "   Student_ID   Name  Subject  Marks\n",
       "0           1  Alice     Math     88\n",
       "1           2    Bob  Science     75\n",
       "2           3  Carol  History     92\n",
       "3           4  David     Math     85\n",
       "4           5    Eve  Science     90"
      ]
     },
     "execution_count": 32,
     "metadata": {},
     "output_type": "execute_result"
    }
   ],
   "source": [
    "df"
   ]
  },
  {
   "cell_type": "code",
   "execution_count": null,
   "id": "e470d0ec",
   "metadata": {},
   "outputs": [
    {
     "data": {
      "text/html": [
       "<div>\n",
       "<style scoped>\n",
       "    .dataframe tbody tr th:only-of-type {\n",
       "        vertical-align: middle;\n",
       "    }\n",
       "\n",
       "    .dataframe tbody tr th {\n",
       "        vertical-align: top;\n",
       "    }\n",
       "\n",
       "    .dataframe thead th {\n",
       "        text-align: right;\n",
       "    }\n",
       "</style>\n",
       "<table border=\"1\" class=\"dataframe\">\n",
       "  <thead>\n",
       "    <tr style=\"text-align: right;\">\n",
       "      <th></th>\n",
       "      <th>Student_ID</th>\n",
       "      <th>Name</th>\n",
       "      <th>Subject</th>\n",
       "      <th>Marks</th>\n",
       "    </tr>\n",
       "  </thead>\n",
       "  <tbody>\n",
       "    <tr>\n",
       "      <th>0</th>\n",
       "      <td>1</td>\n",
       "      <td>Alice</td>\n",
       "      <td>Math</td>\n",
       "      <td>88</td>\n",
       "    </tr>\n",
       "    <tr>\n",
       "      <th>1</th>\n",
       "      <td>2</td>\n",
       "      <td>Bob</td>\n",
       "      <td>Science</td>\n",
       "      <td>75</td>\n",
       "    </tr>\n",
       "    <tr>\n",
       "      <th>2</th>\n",
       "      <td>3</td>\n",
       "      <td>Carol</td>\n",
       "      <td>History</td>\n",
       "      <td>92</td>\n",
       "    </tr>\n",
       "    <tr>\n",
       "      <th>3</th>\n",
       "      <td>4</td>\n",
       "      <td>David</td>\n",
       "      <td>Math</td>\n",
       "      <td>85</td>\n",
       "    </tr>\n",
       "    <tr>\n",
       "      <th>4</th>\n",
       "      <td>5</td>\n",
       "      <td>Eve</td>\n",
       "      <td>Science</td>\n",
       "      <td>90</td>\n",
       "    </tr>\n",
       "  </tbody>\n",
       "</table>\n",
       "</div>"
      ],
      "text/plain": [
       "   Student_ID   Name  Subject  Marks\n",
       "0           1  Alice     Math     88\n",
       "1           2    Bob  Science     75\n",
       "2           3  Carol  History     92\n",
       "3           4  David     Math     85\n",
       "4           5    Eve  Science     90"
      ]
     },
     "execution_count": 31,
     "metadata": {},
     "output_type": "execute_result"
    }
   ],
   "source": []
  },
  {
   "cell_type": "markdown",
   "metadata": {},
   "source": [
    "## 🧠 **Question 4: Dataset Analysis (Pandas, Matplotlib, Seaborn)**\n",
    "Use the dataset `diabetes.csv` and perform the following tasks:\n",
    "\n",
    "1. Display the **BMI** and **Blood Pressure** for samples with **index ranging from 20 to 40**.  \n",
    "2. Find how many patients have **BMI > 30**.  \n",
    "3. Find the **mean and standard deviation** of the **Glucose** levels.  \n",
    "4. Plot a **boxplot** for the column **Insulin**.  \n",
    "5. Create a **heatmap** showing the correlation between the numerical columns in the dataset."
   ]
  },
  {
   "cell_type": "code",
   "execution_count": null,
   "metadata": {},
   "outputs": [],
   "source": [
    "# Solution for Question 4\n",
    "import pandas as pd\n",
    "import matplotlib.pyplot as plt\n",
    "import seaborn as sns\n",
    "\n",
    "# Your code here"
   ]
  }
 ],
 "metadata": {
  "kernelspec": {
   "display_name": "pro1",
   "language": "python",
   "name": "python3"
  },
  "language_info": {
   "codemirror_mode": {
    "name": "ipython",
    "version": 3
   },
   "file_extension": ".py",
   "mimetype": "text/x-python",
   "name": "python",
   "nbconvert_exporter": "python",
   "pygments_lexer": "ipython3",
   "version": "3.13.0"
  }
 },
 "nbformat": 4,
 "nbformat_minor": 5
}
