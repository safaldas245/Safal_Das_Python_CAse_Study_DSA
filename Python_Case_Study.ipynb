{
  "nbformat": 4,
  "nbformat_minor": 0,
  "metadata": {
    "colab": {
      "provenance": []
    },
    "kernelspec": {
      "name": "python3",
      "display_name": "Python 3"
    },
    "language_info": {
      "name": "python"
    }
  },
  "cells": [
    {
      "cell_type": "markdown",
      "source": [
        "1. Grocery Store Bill Calculator\n",
        "\n",
        "A grocery store wants a program to calculate the total bill for a customer.\n",
        "\n",
        "a. Store the prices of items in a dictionary (e.g., {'apple': 10, 'milk': 50})\n",
        "\n",
        "b. Take the items purchased and their quantities as input.\n",
        "\n",
        "c. Calculate and display the total bill amount"
      ],
      "metadata": {
        "id": "fh0gnWN0Wg16"
      }
    },
    {
      "cell_type": "code",
      "source": [
        "price_list={\"apple\":10,\"milk\":50,\"pulse\":65,\"rice\":33,\"bathing soap\":30,\"orange\":65}\n",
        "total_bill=0\n",
        "print(\"Enter the items you purchased and their quantities (enter 'done' when finished):\")\n",
        "\n",
        "while True:\n",
        "    item = input(\"Enter item name: \")\n",
        "\n",
        "    if item == 'done':\n",
        "        break\n",
        "\n",
        "    if item in price_list:\n",
        "        quantity = int(input(f\"Enter quantity for {item}: \"))\n",
        "        total_bill += price_list[item] * quantity\n",
        "    else:\n",
        "        print(f\"Sorry, we don't have {item} in stock.\")\n",
        "\n",
        "\n",
        "print(f\"\\nTotal bill amount: {total_bill}\")\n",
        "\n"
      ],
      "metadata": {
        "id": "1HOSOrSpWkGu",
        "colab": {
          "base_uri": "https://localhost:8080/"
        },
        "outputId": "17c7dc11-aa8d-4205-ded3-9cc5aad95ec7"
      },
      "execution_count": 7,
      "outputs": [
        {
          "output_type": "stream",
          "name": "stdout",
          "text": [
            "Enter the items you purchased and their quantities (enter 'done' when finished):\n",
            "Enter item name: apple\n",
            "Enter quantity for apple: 5\n",
            "Enter item name: orange\n",
            "Enter quantity for orange: 2\n",
            "Enter item name: rice\n",
            "Enter quantity for rice: 25\n",
            "Enter item name: done\n",
            "\n",
            "Total bill amount: 1005\n"
          ]
        }
      ]
    },
    {
      "cell_type": "markdown",
      "source": [
        "a. Store marks for 5 subjects in a list.\n",
        "\n",
        "b. Calculate the average and determine the grade:\n",
        "\n",
        "o 90+ -> A\n",
        "\n",
        "o 70-89 -> B\n",
        "\n",
        "o 50-69 -> C\n",
        "\n",
        "o <50 -> F\n",
        "\n",
        "c. Display the average and the grade."
      ],
      "metadata": {
        "id": "dWi7rIc1egH0"
      }
    },
    {
      "cell_type": "code",
      "source": [
        "mark_list=[ ]\n",
        "\n",
        "for i in range(1,6):\n",
        "  marks=int(input(f\"Enter marks for subject {i}: \"))\n",
        "  mark_list.append(marks)\n",
        "\n",
        "average=sum(mark_list)/len(mark_list)\n",
        "\n",
        "if average>=90:\n",
        "  grade=\"A\"\n",
        "elif average>=70:\n",
        "  grade=\"B\"\n",
        "elif average>=50:\n",
        "  grade=\"C\"\n",
        "else:\n",
        "  grade=\"F\"\n",
        "\n",
        "print(f\"\\nAverage marks: {average}\")\n"
      ],
      "metadata": {
        "colab": {
          "base_uri": "https://localhost:8080/"
        },
        "id": "HImp-6sIbpvX",
        "outputId": "d9a97165-3784-49e0-e1d9-456d33ad5c64"
      },
      "execution_count": 5,
      "outputs": [
        {
          "output_type": "stream",
          "name": "stdout",
          "text": [
            "Enter marks for subject 1: 55\n",
            "Enter marks for subject 2: 43\n",
            "Enter marks for subject 3: 77\n",
            "Enter marks for subject 4: 80\n",
            "Enter marks for subject 5: 33\n",
            "\n",
            "Average marks: 57.6\n"
          ]
        }
      ]
    },
    {
      "cell_type": "markdown",
      "source": [
        "3. A movie theatre wants to automate ticket booking for customers.\n",
        "\n",
        "a. Use a list to store the available seats (e.g., [1, 2, 3, ..., 20]).\n",
        "\n",
        "b. Allow the customer to book a seat by entering the seat number.\n",
        "\n",
        "c. After booking, remove the seat from the list of available seats.\n",
        "\n",
        "d. Display the remaining available seats."
      ],
      "metadata": {
        "id": "xFvWnDA0eXhh"
      }
    },
    {
      "cell_type": "code",
      "source": [
        "\n",
        "available_seats = list(range(1, 21))\n",
        "\n",
        "def display_seats():\n",
        "    print(f\"Available seats: {available_seats}\")\n",
        "\n",
        "\n",
        "def book_seat(seat_number):\n",
        "    if seat_number in available_seats:\n",
        "        available_seats.remove(seat_number)\n",
        "        print(f\"Seat {seat_number} has been successfully booked!\")\n",
        "    else:\n",
        "        print(f\"Sorry, seat {seat_number} is already taken or invalid.\")\n",
        "\n",
        "\n",
        "while True:\n",
        "\n",
        "    display_seats()\n",
        "\n",
        "\n",
        "    try:\n",
        "        seat_number = int(input(\"Enter the seat number you want to book (1-20) or 0 to exit: \"))\n",
        "\n",
        "\n",
        "        if seat_number == 0:\n",
        "            print(\"Thank you for using our ticket booking system. Goodbye!\")\n",
        "            break\n",
        "\n",
        "\n",
        "        book_seat(seat_number)\n",
        "\n",
        "    except ValueError:\n",
        "        print(\"Please enter a valid seat number.\")\n"
      ],
      "metadata": {
        "colab": {
          "base_uri": "https://localhost:8080/"
        },
        "id": "qfywp4UdecIS",
        "outputId": "ca79f38e-396b-4a4a-8a7f-f273e8873103"
      },
      "execution_count": 8,
      "outputs": [
        {
          "output_type": "stream",
          "name": "stdout",
          "text": [
            "Available seats: [1, 2, 3, 4, 5, 6, 7, 8, 9, 10, 11, 12, 13, 14, 15, 16, 17, 18, 19, 20]\n",
            "Enter the seat number you want to book (1-20) or 0 to exit: 19\n",
            "Seat 19 has been successfully booked!\n",
            "Available seats: [1, 2, 3, 4, 5, 6, 7, 8, 9, 10, 11, 12, 13, 14, 15, 16, 17, 18, 20]\n",
            "Enter the seat number you want to book (1-20) or 0 to exit: 0\n",
            "Thank you for using our ticket booking system. Goodbye!\n"
          ]
        }
      ]
    }
  ]
}